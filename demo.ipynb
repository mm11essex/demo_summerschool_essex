{
  "nbformat": 4,
  "nbformat_minor": 0,
  "metadata": {
    "colab": {
      "name": "demo.ipynb",
      "provenance": [],
      "authorship_tag": "ABX9TyNex8/qeU2B5+HqRusb8oF3",
      "include_colab_link": true
    },
    "kernelspec": {
      "name": "python3",
      "display_name": "Python 3"
    },
    "language_info": {
      "name": "python"
    }
  },
  "cells": [
    {
      "cell_type": "markdown",
      "metadata": {
        "id": "view-in-github",
        "colab_type": "text"
      },
      "source": [
        "<a href=\"https://colab.research.google.com/github/mm11essex/demo_summerschool_essex/blob/main/demo.ipynb\" target=\"_parent\"><img src=\"https://colab.research.google.com/assets/colab-badge.svg\" alt=\"Open In Colab\"/></a>"
      ]
    },
    {
      "cell_type": "markdown",
      "metadata": {
        "id": "u54Ts6RnBUxP"
      },
      "source": [
        "this is my first code in python\n",
        "## hope you're doing well\n",
        "### yes absolutely"
      ]
    },
    {
      "cell_type": "code",
      "metadata": {
        "colab": {
          "base_uri": "https://localhost:8080/"
        },
        "id": "B3Qeyzhd_ng0",
        "outputId": "04b38e48-8928-4907-f1aa-69c8889e8b6b"
      },
      "source": [
        "#strategy works\n",
        "##hello\n",
        "print('welcome today')\n"
      ],
      "execution_count": 9,
      "outputs": [
        {
          "output_type": "stream",
          "text": [
            "welcome today\n"
          ],
          "name": "stdout"
        }
      ]
    }
  ]
}